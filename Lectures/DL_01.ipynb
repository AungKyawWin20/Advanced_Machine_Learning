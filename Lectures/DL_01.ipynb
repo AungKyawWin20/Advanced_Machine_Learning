{
 "cells": [
  {
   "cell_type": "code",
   "execution_count": 1,
   "id": "65b515d6",
   "metadata": {},
   "outputs": [
    {
     "name": "stdout",
     "output_type": "stream",
     "text": [
      "2.10.0\n"
     ]
    }
   ],
   "source": [
    "import tensorflow as tf\n",
    "print(tf.__version__)\n",
    "mnist = tf.keras.datasets.mnist"
   ]
  },
  {
   "cell_type": "code",
   "execution_count": 2,
   "id": "a2194c99",
   "metadata": {},
   "outputs": [],
   "source": [
    "(x_train, y_train), (x_test, y_test) = mnist.load_data()\n",
    "x_train, x_test = x_train / 255.0, x_test / 255.0 #It is divided by 255.0 to normalize the data between 0 and 1"
   ]
  },
  {
   "cell_type": "code",
   "execution_count": 20,
   "id": "6747ea0d",
   "metadata": {},
   "outputs": [
    {
     "data": {
      "text/plain": [
       "(60000, 28, 28)"
      ]
     },
     "execution_count": 20,
     "metadata": {},
     "output_type": "execute_result"
    }
   ],
   "source": [
    "x_train.shape"
   ]
  },
  {
   "cell_type": "code",
   "execution_count": null,
   "id": "a6e7a364",
   "metadata": {},
   "outputs": [],
   "source": [
    "import matplotlib.pyplot as plt\n",
    "\n",
    "plt.imshow(x_train[0], cmap='gray')\n",
    "plt.show()"
   ]
  },
  {
   "cell_type": "code",
   "execution_count": null,
   "id": "fd7f3604",
   "metadata": {},
   "outputs": [],
   "source": [
    "#Builiding the model\n",
    "#The model is a simple feedforward neural network with one hidden layer\n",
    "#The input layer has 784 neurons (28x28 pixels), the hidden layer has 128 neurons, and the output layer has 10 neurons (one for each digit)\n",
    "#The activation function for the hidden layer is ReLU (Rectified Linear Unit), and the output layer uses softmax to produce probabilities for each digit\n",
    "#The model is compiled with the Adam optimizer and sparse categorical crossentropy loss function\n",
    "#The model is trained for 5 epochs with a batch size of 32\n",
    "#The model is evaluated on the test set, and the accuracy is printed\n",
    "model = tf.keras.models.Sequential([\n",
    "  tf.keras.layers.Flatten(input_shape=(28, 28)), #input layer\n",
    "  tf.keras.layers.Dense(128, activation='relu'), #hidden layer with activation function of relu and 128 neurons \n",
    "  tf.keras.layers.Dense(10, activation='softmax') #output layer with activation function of softmax and 10 neurons because we have 10 class labels\n",
    "])"
   ]
  },
  {
   "cell_type": "code",
   "execution_count": 16,
   "id": "2627b6fa",
   "metadata": {},
   "outputs": [
    {
     "name": "stdout",
     "output_type": "stream",
     "text": [
      "Model: \"sequential_3\"\n",
      "_________________________________________________________________\n",
      " Layer (type)                Output Shape              Param #   \n",
      "=================================================================\n",
      " flatten_3 (Flatten)         (None, 784)               0         \n",
      "                                                                 \n",
      " dense_7 (Dense)             (None, 128)               100480    \n",
      "                                                                 \n",
      " dense_8 (Dense)             (None, 10)                1290      \n",
      "                                                                 \n",
      "=================================================================\n",
      "Total params: 101,770\n",
      "Trainable params: 101,770\n",
      "Non-trainable params: 0\n",
      "_________________________________________________________________\n"
     ]
    }
   ],
   "source": [
    "model.summary()"
   ]
  },
  {
   "cell_type": "code",
   "execution_count": 17,
   "id": "652e2cd9",
   "metadata": {},
   "outputs": [],
   "source": [
    "model.compile(optimizer='adam',\n",
    "              loss='sparse_categorical_crossentropy', #binary_crossentropy for binary classification\n",
    "              metrics=['accuracy']) #mae,mse for regression"
   ]
  },
  {
   "cell_type": "code",
   "execution_count": 18,
   "id": "6015352c",
   "metadata": {},
   "outputs": [
    {
     "name": "stdout",
     "output_type": "stream",
     "text": [
      "Epoch 1/3\n",
      "1875/1875 - 7s - loss: 0.2582 - accuracy: 0.9267 - 7s/epoch - 4ms/step\n",
      "Epoch 2/3\n",
      "1875/1875 - 6s - loss: 0.1141 - accuracy: 0.9663 - 6s/epoch - 3ms/step\n",
      "Epoch 3/3\n",
      "1875/1875 - 7s - loss: 0.0789 - accuracy: 0.9760 - 7s/epoch - 4ms/step\n"
     ]
    },
    {
     "data": {
      "text/plain": [
       "<keras.callbacks.History at 0x1e97cc18e50>"
      ]
     },
     "execution_count": 18,
     "metadata": {},
     "output_type": "execute_result"
    }
   ],
   "source": [
    "model.fit(x_train, y_train, epochs=3, verbose = 2) "
   ]
  },
  {
   "cell_type": "code",
   "execution_count": null,
   "id": "3ebaaa45",
   "metadata": {},
   "outputs": [],
   "source": []
  }
 ],
 "metadata": {
  "kernelspec": {
   "display_name": "ML_env",
   "language": "python",
   "name": "python3"
  },
  "language_info": {
   "codemirror_mode": {
    "name": "ipython",
    "version": 3
   },
   "file_extension": ".py",
   "mimetype": "text/x-python",
   "name": "python",
   "nbconvert_exporter": "python",
   "pygments_lexer": "ipython3",
   "version": "3.10.8"
  }
 },
 "nbformat": 4,
 "nbformat_minor": 5
}
