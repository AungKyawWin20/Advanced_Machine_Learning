{
 "cells": [
  {
   "cell_type": "code",
   "execution_count": 1,
   "id": "18fe75f5-d76f-4016-865b-3a5d4e8ad98b",
   "metadata": {},
   "outputs": [],
   "source": [
    "import os\n",
    "import zipfile\n",
    "import tensorflow as tf\n",
    "from tensorflow.keras.optimizers import RMSprop\n",
    "from tensorflow.keras.preprocessing.image import load_img,img_to_array,ImageDataGenerator"
   ]
  },
  {
   "cell_type": "code",
   "execution_count": 3,
   "id": "a7cbb1f7-6ce8-4d2b-8164-29b7d344165a",
   "metadata": {},
   "outputs": [],
   "source": [
    "zip_location='../data/kagglecatsanddogs_5340.zip'\n",
    "zip_ref=zipfile.ZipFile(zip_location,'r')\n",
    "zip_ref.extractall('data/')\n",
    "zip_ref.close()"
   ]
  },
  {
   "cell_type": "code",
   "execution_count": 4,
   "id": "ba50d28a-7aff-49bf-b42e-c12c942ae0ce",
   "metadata": {},
   "outputs": [
    {
     "name": "stdout",
     "output_type": "stream",
     "text": [
      "data/PetImages/training/ is created\n",
      "data/PetImages/validation/ is created\n",
      "data/PetImages/training/cat is created\n",
      "data/PetImages/training/dog is created\n",
      "data/PetImages/validation/cat is created\n",
      "data/PetImages/validation/dog is created\n"
     ]
    }
   ],
   "source": [
    "dir_name=[\n",
    "    \"data/PetImages/training/\",\n",
    "    \"data/PetImages/validation/\",\n",
    "    \"data/PetImages/training/cat\",\n",
    "    \"data/PetImages/training/dog\",\n",
    "    \"data/PetImages/validation/cat\",\n",
    "    \"data/PetImages/validation/dog\",\n",
    "]\n",
    "for dir in dir_name:\n",
    "    try:\n",
    "        os.mkdir(dir)\n",
    "        print(f\"{dir} is created\")\n",
    "    except Exception as e:\n",
    "        print(\"failed to create\",e)"
   ]
  },
  {
   "cell_type": "code",
   "execution_count": 5,
   "id": "821cef42-2945-4086-b230-6bcf0ba0c842",
   "metadata": {},
   "outputs": [
    {
     "data": {
      "text/plain": [
       "12501"
      ]
     },
     "execution_count": 5,
     "metadata": {},
     "output_type": "execute_result"
    }
   ],
   "source": [
    "len(os.listdir('data/PetImages/cat/'))"
   ]
  },
  {
   "cell_type": "code",
   "execution_count": 6,
   "id": "5cc9b6ea-82ba-4dde-a910-98bb21751b43",
   "metadata": {},
   "outputs": [],
   "source": [
    "total_pic=len(os.listdir('data/PetImages/dog/'))"
   ]
  },
  {
   "cell_type": "code",
   "execution_count": 7,
   "id": "3be2bef6-706c-4464-93e9-babd4fb73ee9",
   "metadata": {},
   "outputs": [],
   "source": [
    "training_size=int(total_pic*0.8)\n",
    "testing_size=int(total_pic-training_size)"
   ]
  },
  {
   "cell_type": "code",
   "execution_count": 8,
   "id": "ee3c23bc-e094-463f-9d61-1756883fe3fb",
   "metadata": {},
   "outputs": [
    {
     "data": {
      "text/plain": [
       "(10000, 2501)"
      ]
     },
     "execution_count": 8,
     "metadata": {},
     "output_type": "execute_result"
    }
   ],
   "source": [
    "training_size,testing_size"
   ]
  },
  {
   "cell_type": "code",
   "execution_count": 9,
   "id": "6a48626e-d13f-44e4-9272-560d223f488a",
   "metadata": {},
   "outputs": [
    {
     "data": {
      "text/plain": [
       "['0.jpg', '1.jpg', '10.jpg', '100.jpg', '1000.jpg']"
      ]
     },
     "execution_count": 9,
     "metadata": {},
     "output_type": "execute_result"
    }
   ],
   "source": [
    "cat_list=os.listdir('data/PetImages/cat/')\n",
    "cat_list[:5]"
   ]
  },
  {
   "cell_type": "code",
   "execution_count": 13,
   "id": "14d1fd2c-3319-429e-b1dc-72343b79c5a9",
   "metadata": {},
   "outputs": [],
   "source": [
    "import shutil\n",
    "source='data/PetImages/cat'\n",
    "destination='data/PetImages/training/cat'\n",
    "\n",
    "count=0\n",
    "for x in cat_list:\n",
    "    if count>training_size:\n",
    "        break\n",
    "    count+=1\n",
    "    sr=os.path.join(source,x)\n",
    "    des=os.path.join(destination,x)\n",
    "    if os.stat(sr).st_size==0:\n",
    "        continue\n",
    "    shutil.copyfile(sr,des)"
   ]
  },
  {
   "cell_type": "code",
   "execution_count": 2,
   "id": "e20aa409-e53e-40cf-acb4-1b52132345e8",
   "metadata": {},
   "outputs": [
    {
     "data": {
      "text/plain": [
       "10000"
      ]
     },
     "execution_count": 2,
     "metadata": {},
     "output_type": "execute_result"
    }
   ],
   "source": [
    "len(os.listdir('data/PetImages/training/cat'))"
   ]
  },
  {
   "cell_type": "code",
   "execution_count": 11,
   "id": "be06b3d7-a0f1-45a2-8d8a-c771877143c6",
   "metadata": {},
   "outputs": [
    {
     "data": {
      "text/plain": [
       "0"
      ]
     },
     "execution_count": 11,
     "metadata": {},
     "output_type": "execute_result"
    }
   ],
   "source": [
    "len(os.listdir('data/PetImages/validation/cat'))"
   ]
  },
  {
   "cell_type": "code",
   "execution_count": 12,
   "id": "b201fb7a-2a8a-4fc9-8276-746af90cf1af",
   "metadata": {},
   "outputs": [],
   "source": [
    "import shutil\n",
    "source='data/PetImages/cat'\n",
    "destination='data/PetImages/validation/cat'\n",
    "\n",
    "count=0\n",
    "for x in cat_list:\n",
    "    if count>testing_size:\n",
    "        break\n",
    "    count+=1\n",
    "    sr=os.path.join(source,x)\n",
    "    des=os.path.join(destination,x)\n",
    "    if os.stat(sr).st_size==0:\n",
    "        continue\n",
    "    shutil.copyfile(sr,des)\n",
    "\n"
   ]
  },
  {
   "cell_type": "code",
   "execution_count": 14,
   "id": "36d4efc9-1f19-4833-8ec5-8444391f8e68",
   "metadata": {},
   "outputs": [
    {
     "data": {
      "text/plain": [
       "2502"
      ]
     },
     "execution_count": 14,
     "metadata": {},
     "output_type": "execute_result"
    }
   ],
   "source": [
    "len(os.listdir('data/PetImages/validation/cat'))"
   ]
  },
  {
   "cell_type": "code",
   "execution_count": 15,
   "id": "888ab38f-82d1-4fad-9d98-4b70b4d6310a",
   "metadata": {},
   "outputs": [
    {
     "data": {
      "text/plain": [
       "['0.jpg', '1.jpg', '10.jpg', '100.jpg', '1000.jpg']"
      ]
     },
     "execution_count": 15,
     "metadata": {},
     "output_type": "execute_result"
    }
   ],
   "source": [
    "dog_list=os.listdir('data/PetImages/dog/')\n",
    "dog_list[:5]"
   ]
  },
  {
   "cell_type": "code",
   "execution_count": 16,
   "id": "eb450ffc-0da2-4d25-89a9-f0d785976724",
   "metadata": {},
   "outputs": [],
   "source": [
    "import shutil\n",
    "source='data/PetImages/dog'\n",
    "destination='data/PetImages/training/dog'\n",
    "\n",
    "count=0\n",
    "for x in dog_list:\n",
    "    if count>training_size:\n",
    "        break\n",
    "    count+=1\n",
    "    sr=os.path.join(source,x)\n",
    "    des=os.path.join(destination,x)\n",
    "    if os.stat(sr).st_size==0:\n",
    "        continue\n",
    "    shutil.copyfile(sr,des)"
   ]
  },
  {
   "cell_type": "code",
   "execution_count": 17,
   "id": "1bb89631-e27f-4049-b1ef-8ff8c9ac35c6",
   "metadata": {},
   "outputs": [
    {
     "data": {
      "text/plain": [
       "10000"
      ]
     },
     "execution_count": 17,
     "metadata": {},
     "output_type": "execute_result"
    }
   ],
   "source": [
    "len(os.listdir('data/PetImages/training/dog'))"
   ]
  },
  {
   "cell_type": "code",
   "execution_count": 18,
   "id": "c9ccb8c1-c36a-4bdd-a407-9e0ab2c5747e",
   "metadata": {},
   "outputs": [],
   "source": [
    "import shutil\n",
    "source='data/PetImages/dog'\n",
    "destination='data/PetImages/validation/dog'\n",
    "\n",
    "count=0\n",
    "for x in dog_list:\n",
    "    if count>testing_size:\n",
    "        break\n",
    "    count+=1\n",
    "    sr=os.path.join(source,x)\n",
    "    des=os.path.join(destination,x)\n",
    "    if os.stat(sr).st_size==0:\n",
    "        continue\n",
    "    shutil.copyfile(sr,des)"
   ]
  },
  {
   "cell_type": "code",
   "execution_count": 19,
   "id": "6ab4ca8d-094b-4e41-86d9-2249bb8a86ef",
   "metadata": {},
   "outputs": [
    {
     "data": {
      "text/plain": [
       "2501"
      ]
     },
     "execution_count": 19,
     "metadata": {},
     "output_type": "execute_result"
    }
   ],
   "source": [
    "len(os.listdir('data/PetImages/validation/dog'))"
   ]
  },
  {
   "cell_type": "code",
   "execution_count": 20,
   "id": "bbb944c1-7003-459b-a3f6-834e71e28ea4",
   "metadata": {},
   "outputs": [
    {
     "name": "stdout",
     "output_type": "stream",
     "text": [
      "10000\n",
      "2501\n",
      "10000\n",
      "2502\n"
     ]
    }
   ],
   "source": [
    "print(len(os.listdir('data/PetImages/training/dog')))\n",
    "print(len(os.listdir('data/PetImages/validation/dog')))\n",
    "print(len(os.listdir('data/PetImages/training/cat')))\n",
    "print(len(os.listdir('data/PetImages/validation/cat')))"
   ]
  },
  {
   "cell_type": "code",
   "execution_count": 21,
   "id": "eba17cbf-b415-476d-8607-27ba4c3d24fa",
   "metadata": {},
   "outputs": [
    {
     "data": {
      "text/plain": [
       "['0.jpg', '1.jpg', '10.jpg']"
      ]
     },
     "execution_count": 21,
     "metadata": {},
     "output_type": "execute_result"
    }
   ],
   "source": [
    "os.listdir('data/PetImages/validation/cat')[:3]"
   ]
  },
  {
   "cell_type": "code",
   "execution_count": 24,
   "id": "a9e637eb-aeab-4b0c-8647-496e8cd96bf4",
   "metadata": {},
   "outputs": [
    {
     "data": {
      "image/jpeg": "[encoded data removed]",
      "image/png": "[encoded data removed]",
      "text/plain": [
       "<PIL.Image.Image image mode=RGB size=200x200>"
      ]
     },
     "execution_count": 24,
     "metadata": {},
     "output_type": "execute_result"
    }
   ],
   "source": [
    "from tensorflow.keras.preprocessing.image import load_img,img_to_array,ImageDataGenerator\n",
    "load_img('data/PetImages/validation/cat/0.jpg',target_size=(200,200))"
   ]
  },
  {
   "cell_type": "code",
   "execution_count": 25,
   "id": "a8e544cc-303a-475e-93f8-67960a5bb90e",
   "metadata": {},
   "outputs": [],
   "source": [
    "from tensorflow.keras.preprocessing.image import ImageDataGenerator\n",
    "train_datagen = ImageDataGenerator(\n",
    "    rescale = 1./255,\n",
    "    shear_range = 0.2,\n",
    "    zoom_range = 0.2,\n",
    "    horizontal_flip = True,\n",
    ")\n",
    "test_dataset = ImageDataGenerator(rescale = 1./255)"
   ]
  },
  {
   "cell_type": "code",
   "execution_count": 26,
   "id": "12f68635-7f84-45e8-b715-7014570c0c05",
   "metadata": {},
   "outputs": [
    {
     "name": "stdout",
     "output_type": "stream",
     "text": [
      "Found 20000 images belonging to 2 classes.\n"
     ]
    }
   ],
   "source": [
    "train_generator = train_datagen.flow_from_directory(\n",
    "    'data/PetImages/training',\n",
    "    target_size = (200,200),\n",
    "    batch_size = 10,\n",
    "    class_mode = 'binary'  #category  #multiple\n",
    ")"
   ]
  },
  {
   "cell_type": "code",
   "execution_count": 27,
   "id": "aa38f0ea-d3a4-43cf-8e6b-6da104b37be1",
   "metadata": {},
   "outputs": [
    {
     "name": "stdout",
     "output_type": "stream",
     "text": [
      "Found 5003 images belonging to 2 classes.\n"
     ]
    }
   ],
   "source": [
    "valid_generator = train_datagen.flow_from_directory(\n",
    "    'data/PetImages/validation',\n",
    "    target_size = (200,200),\n",
    "    batch_size = 10,\n",
    "    class_mode = 'binary'\n",
    ")"
   ]
  },
  {
   "cell_type": "code",
   "execution_count": 32,
   "id": "20cd74cd-be90-4f4b-a21f-7669848e849d",
   "metadata": {},
   "outputs": [
    {
     "name": "stderr",
     "output_type": "stream",
     "text": [
      "F:\\anaconda3\\envs\\aiproject\\Lib\\site-packages\\keras\\src\\layers\\convolutional\\base_conv.py:107: UserWarning: Do not pass an `input_shape`/`input_dim` argument to a layer. When using Sequential models, prefer using an `Input(shape)` object as the first layer in the model instead.\n",
      "  super().__init__(activity_regularizer=activity_regularizer, **kwargs)\n"
     ]
    }
   ],
   "source": [
    "model=tf.keras.Sequential([\n",
    "    tf.keras.layers.Conv2D(64,(3,3),activation='relu',input_shape=(200,200,3)),\n",
    "    tf.keras.layers.MaxPooling2D(2,2),\n",
    "    tf.keras.layers.Conv2D(128,(3,3),activation='relu'),\n",
    "    tf.keras.layers.MaxPooling2D(2,2),\n",
    "    tf.keras.layers.Conv2D(64,(3,3),activation='relu'),\n",
    "    tf.keras.layers.MaxPooling2D(2,2),\n",
    "    tf.keras.layers.Flatten(),\n",
    "    tf.keras.layers.Dense(512,activation='relu'),\n",
    "    tf.keras.layers.Dense(1024,activation='relu'),\n",
    "    tf.keras.layers.Dense(64,activation='relu'),\n",
    "    tf.keras.layers.Dropout(0.1),\n",
    "    tf.keras.layers.Dense(128,activation='relu'),\n",
    "    tf.keras.layers.Dense(1,activation='sigmoid')\n",
    "])"
   ]
  },
  {
   "cell_type": "code",
   "execution_count": 34,
   "id": "0158f211-b5a1-405e-a36f-2f117d7fb303",
   "metadata": {},
   "outputs": [],
   "source": [
    "model.compile(loss=tf.keras.losses.binary_crossentropy,optimizer = \"rmsprop\",metrics=[\"accuracy\"])"
   ]
  },
  {
   "cell_type": "code",
   "execution_count": 35,
   "id": "9ada8167-5f23-4cb9-923e-f0b04a4cb9cd",
   "metadata": {},
   "outputs": [
    {
     "name": "stdout",
     "output_type": "stream",
     "text": [
      "Epoch 1/20\n",
      "\u001b[1m10/10\u001b[0m \u001b[32m━━━━━━━━━━━━━━━━━━━━\u001b[0m\u001b[37m\u001b[0m \u001b[1m68s\u001b[0m 5s/step - accuracy: 0.4401 - loss: 0.7086 - val_accuracy: 0.5400 - val_loss: 0.6914\n",
      "Epoch 2/20\n",
      "\u001b[1m10/10\u001b[0m \u001b[32m━━━━━━━━━━━━━━━━━━━━\u001b[0m\u001b[37m\u001b[0m \u001b[1m57s\u001b[0m 5s/step - accuracy: 0.4436 - loss: 0.7033 - val_accuracy: 0.5100 - val_loss: 0.6927\n",
      "Epoch 3/20\n",
      "\u001b[1m10/10\u001b[0m \u001b[32m━━━━━━━━━━━━━━━━━━━━\u001b[0m\u001b[37m\u001b[0m \u001b[1m23s\u001b[0m 2s/step - accuracy: 0.4973 - loss: 0.6931 - val_accuracy: 0.4600 - val_loss: 0.6954\n",
      "Epoch 4/20\n",
      "\u001b[1m10/10\u001b[0m \u001b[32m━━━━━━━━━━━━━━━━━━━━\u001b[0m\u001b[37m\u001b[0m \u001b[1m20s\u001b[0m 2s/step - accuracy: 0.5741 - loss: 0.6969 - val_accuracy: 0.4300 - val_loss: 0.6948\n",
      "Epoch 5/20\n",
      "\u001b[1m10/10\u001b[0m \u001b[32m━━━━━━━━━━━━━━━━━━━━\u001b[0m\u001b[37m\u001b[0m \u001b[1m18s\u001b[0m 2s/step - accuracy: 0.4816 - loss: 0.6946 - val_accuracy: 0.4200 - val_loss: 0.6946\n",
      "Epoch 6/20\n",
      "\u001b[1m10/10\u001b[0m \u001b[32m━━━━━━━━━━━━━━━━━━━━\u001b[0m\u001b[37m\u001b[0m \u001b[1m53s\u001b[0m 5s/step - accuracy: 0.5076 - loss: 0.6954 - val_accuracy: 0.5200 - val_loss: 0.6930\n",
      "Epoch 7/20\n",
      "\u001b[1m10/10\u001b[0m \u001b[32m━━━━━━━━━━━━━━━━━━━━\u001b[0m\u001b[37m\u001b[0m \u001b[1m26s\u001b[0m 3s/step - accuracy: 0.4693 - loss: 0.6972 - val_accuracy: 0.6000 - val_loss: 0.6857\n",
      "Epoch 8/20\n",
      "\u001b[1m10/10\u001b[0m \u001b[32m━━━━━━━━━━━━━━━━━━━━\u001b[0m\u001b[37m\u001b[0m \u001b[1m76s\u001b[0m 8s/step - accuracy: 0.4756 - loss: 0.7071 - val_accuracy: 0.4800 - val_loss: 0.6938\n",
      "Epoch 9/20\n",
      "\u001b[1m10/10\u001b[0m \u001b[32m━━━━━━━━━━━━━━━━━━━━\u001b[0m\u001b[37m\u001b[0m \u001b[1m19s\u001b[0m 2s/step - accuracy: 0.4402 - loss: 0.6945 - val_accuracy: 0.4400 - val_loss: 0.6946\n",
      "Epoch 10/20\n",
      "\u001b[1m10/10\u001b[0m \u001b[32m━━━━━━━━━━━━━━━━━━━━\u001b[0m\u001b[37m\u001b[0m \u001b[1m23s\u001b[0m 2s/step - accuracy: 0.5116 - loss: 0.8178 - val_accuracy: 0.5700 - val_loss: 0.6895\n",
      "Epoch 11/20\n",
      "\u001b[1m10/10\u001b[0m \u001b[32m━━━━━━━━━━━━━━━━━━━━\u001b[0m\u001b[37m\u001b[0m \u001b[1m19s\u001b[0m 2s/step - accuracy: 0.5716 - loss: 0.6942 - val_accuracy: 0.5300 - val_loss: 0.6918\n",
      "Epoch 12/20\n",
      "\u001b[1m10/10\u001b[0m \u001b[32m━━━━━━━━━━━━━━━━━━━━\u001b[0m\u001b[37m\u001b[0m \u001b[1m21s\u001b[0m 2s/step - accuracy: 0.6182 - loss: 0.6835 - val_accuracy: 0.5300 - val_loss: 0.6915\n",
      "Epoch 13/20\n",
      "\u001b[1m10/10\u001b[0m \u001b[32m━━━━━━━━━━━━━━━━━━━━\u001b[0m\u001b[37m\u001b[0m \u001b[1m14s\u001b[0m 1s/step - accuracy: 0.5161 - loss: 0.6946 - val_accuracy: 0.5800 - val_loss: 0.6881\n",
      "Epoch 14/20\n",
      "\u001b[1m10/10\u001b[0m \u001b[32m━━━━━━━━━━━━━━━━━━━━\u001b[0m\u001b[37m\u001b[0m \u001b[1m16s\u001b[0m 2s/step - accuracy: 0.4772 - loss: 0.6949 - val_accuracy: 0.5000 - val_loss: 0.6923\n",
      "Epoch 15/20\n",
      "\u001b[1m10/10\u001b[0m \u001b[32m━━━━━━━━━━━━━━━━━━━━\u001b[0m\u001b[37m\u001b[0m \u001b[1m29s\u001b[0m 3s/step - accuracy: 0.4673 - loss: 0.6944 - val_accuracy: 0.5200 - val_loss: 0.6917\n",
      "Epoch 16/20\n",
      "\u001b[1m10/10\u001b[0m \u001b[32m━━━━━━━━━━━━━━━━━━━━\u001b[0m\u001b[37m\u001b[0m \u001b[1m23s\u001b[0m 2s/step - accuracy: 0.5300 - loss: 0.6920 - val_accuracy: 0.4800 - val_loss: 0.6929\n",
      "Epoch 17/20\n",
      "\u001b[1m10/10\u001b[0m \u001b[32m━━━━━━━━━━━━━━━━━━━━\u001b[0m\u001b[37m\u001b[0m \u001b[1m32s\u001b[0m 3s/step - accuracy: 0.5983 - loss: 0.6915 - val_accuracy: 0.4500 - val_loss: 0.6952\n",
      "Epoch 18/20\n",
      "\u001b[1m10/10\u001b[0m \u001b[32m━━━━━━━━━━━━━━━━━━━━\u001b[0m\u001b[37m\u001b[0m \u001b[1m50s\u001b[0m 5s/step - accuracy: 0.5931 - loss: 0.6876 - val_accuracy: 0.5600 - val_loss: 0.6898\n",
      "Epoch 19/20\n",
      "\u001b[1m10/10\u001b[0m \u001b[32m━━━━━━━━━━━━━━━━━━━━\u001b[0m\u001b[37m\u001b[0m \u001b[1m18s\u001b[0m 2s/step - accuracy: 0.3607 - loss: 0.7030 - val_accuracy: 0.4400 - val_loss: 0.6936\n",
      "Epoch 20/20\n",
      "\u001b[1m10/10\u001b[0m \u001b[32m━━━━━━━━━━━━━━━━━━━━\u001b[0m\u001b[37m\u001b[0m \u001b[1m21s\u001b[0m 2s/step - accuracy: 0.5529 - loss: 0.6893 - val_accuracy: 0.4000 - val_loss: 0.6917\n"
     ]
    }
   ],
   "source": [
    "hist = model.fit(\n",
    "    train_generator,\n",
    "    steps_per_epoch = 10,\n",
    "    epochs = 20,\n",
    "    validation_data = valid_generator,\n",
    "    validation_steps = 10\n",
    ")"
   ]
  },
  {
   "cell_type": "code",
   "execution_count": 36,
   "id": "1aa8cee2-8938-4219-8c43-d8e472eba4e7",
   "metadata": {},
   "outputs": [
    {
     "name": "stderr",
     "output_type": "stream",
     "text": [
      "WARNING:absl:You are saving your model as an HDF5 file via `model.save()` or `keras.saving.save_model(model)`. This file format is considered legacy. We recommend using instead the native Keras format, e.g. `model.save('my_model.keras')` or `keras.saving.save_model(model, 'my_model.keras')`. \n"
     ]
    }
   ],
   "source": [
    "model.save('animal_model.h5')"
   ]
  },
  {
   "cell_type": "code",
   "execution_count": 46,
   "id": "e7455142-0066-4a60-a0db-074f5c316c91",
   "metadata": {},
   "outputs": [
    {
     "data": {
      "text/plain": [
       "{'cat': 0, 'dog': 1}"
      ]
     },
     "execution_count": 46,
     "metadata": {},
     "output_type": "execute_result"
    }
   ],
   "source": [
    "train_generator.class_indices"
   ]
  },
  {
   "cell_type": "code",
   "execution_count": 48,
   "id": "027a4290-e34b-43d6-a226-b914488d87a1",
   "metadata": {},
   "outputs": [
    {
     "name": "stderr",
     "output_type": "stream",
     "text": [
      "WARNING:absl:Compiled the loaded model, but the compiled metrics have yet to be built. `model.compile_metrics` will be empty until you train or evaluate the model.\n"
     ]
    },
    {
     "name": "stdout",
     "output_type": "stream",
     "text": [
      "WARNING:tensorflow:6 out of the last 11 calls to <function TensorFlowTrainer.make_predict_function.<locals>.one_step_on_data_distributed at 0x000002216628CB80> triggered tf.function retracing. Tracing is expensive and the excessive number of tracings could be due to (1) creating @tf.function repeatedly in a loop, (2) passing tensors with different shapes, (3) passing Python objects instead of tensors. For (1), please define your @tf.function outside of the loop. For (2), @tf.function has reduce_retracing=True option that can avoid unnecessary retracing. For (3), please refer to https://www.tensorflow.org/guide/function#controlling_retracing and https://www.tensorflow.org/api_docs/python/tf/function for  more details.\n"
     ]
    },
    {
     "name": "stderr",
     "output_type": "stream",
     "text": [
      "WARNING:tensorflow:6 out of the last 11 calls to <function TensorFlowTrainer.make_predict_function.<locals>.one_step_on_data_distributed at 0x000002216628CB80> triggered tf.function retracing. Tracing is expensive and the excessive number of tracings could be due to (1) creating @tf.function repeatedly in a loop, (2) passing tensors with different shapes, (3) passing Python objects instead of tensors. For (1), please define your @tf.function outside of the loop. For (2), @tf.function has reduce_retracing=True option that can avoid unnecessary retracing. For (3), please refer to https://www.tensorflow.org/guide/function#controlling_retracing and https://www.tensorflow.org/api_docs/python/tf/function for  more details.\n"
     ]
    },
    {
     "name": "stdout",
     "output_type": "stream",
     "text": [
      "\u001b[1m1/1\u001b[0m \u001b[32m━━━━━━━━━━━━━━━━━━━━\u001b[0m\u001b[37m\u001b[0m \u001b[1m4s\u001b[0m 4s/step\n",
      "Prediction  0.49845472\n",
      "Predicted class: cat\n"
     ]
    },
    {
     "data": {
      "text/plain": [
       "'cat'"
      ]
     },
     "execution_count": 48,
     "metadata": {},
     "output_type": "execute_result"
    }
   ],
   "source": [
    "import tensorflow as tf\n",
    "from tensorflow.keras.preprocessing.image import load_img, img_to_array\n",
    "import numpy as np\n",
    "\n",
    "model = tf.keras.models.load_model('animal_model.h5')\n",
    "def predict_image(image_path):\n",
    "    img = load_img(image_path, target_size=(200, 200))  \n",
    "    img_array = img_to_array(img) / 255.0  \n",
    "    img_array = np.expand_dims(img_array, axis=0) \n",
    "    prediction = model.predict(img_array)[0][0]\n",
    "    print(\"Prediction \",prediction)\n",
    "    if prediction>0.5:\n",
    "        predicted_class='dog'\n",
    "    else:\n",
    "        predicted_class='cat'\n",
    "    # class_names = train_generator.class_indices \n",
    "    # class_names = {v: k for k, v in class_names.items()}  \n",
    "    # predicted_class = class_names[np.argmax(prediction)]\n",
    "\n",
    "    print(f\"Predicted class: {predicted_class}\")\n",
    "    return predicted_class\n",
    "\n",
    "image_path = 'data/PetImages/validation/dog/10.jpg'\n",
    "predict_image(image_path)\n"
   ]
  },
  {
   "cell_type": "code",
   "execution_count": 51,
   "id": "22244632-7639-4350-b9c4-a1ec53ed2a01",
   "metadata": {},
   "outputs": [
    {
     "name": "stdout",
     "output_type": "stream",
     "text": [
      "\u001b[1m1/1\u001b[0m \u001b[32m━━━━━━━━━━━━━━━━━━━━\u001b[0m\u001b[37m\u001b[0m \u001b[1m0s\u001b[0m 112ms/step\n",
      "Prediction  0.4984733\n",
      "Predicted class: cat\n"
     ]
    },
    {
     "data": {
      "text/plain": [
       "'cat'"
      ]
     },
     "execution_count": 51,
     "metadata": {},
     "output_type": "execute_result"
    }
   ],
   "source": [
    "image_path = 'data/PetImages/training/dog/50.jpg'\n",
    "predict_image(image_path)"
   ]
  },
  {
   "cell_type": "code",
   "execution_count": null,
   "id": "4b96af5d-6a21-4b37-9719-d9e36c7451aa",
   "metadata": {},
   "outputs": [],
   "source": []
  }
 ],
 "metadata": {
  "kernelspec": {
   "display_name": "prjkernel",
   "language": "python",
   "name": "project"
  },
  "language_info": {
   "codemirror_mode": {
    "name": "ipython",
    "version": 3
   },
   "file_extension": ".py",
   "mimetype": "text/x-python",
   "name": "python",
   "nbconvert_exporter": "python",
   "pygments_lexer": "ipython3",
   "version": "3.12.7"
  }
 },
 "nbformat": 4,
 "nbformat_minor": 5
}
